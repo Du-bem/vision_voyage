{
 "cells": [
  {
   "cell_type": "code",
   "execution_count": 1,
   "id": "7d7d05d9-abba-40a4-8105-23a5c07f8bfd",
   "metadata": {},
   "outputs": [
    {
     "data": {
      "text/plain": [
       "-1"
      ]
     },
     "execution_count": 1,
     "metadata": {},
     "output_type": "execute_result"
    }
   ],
   "source": [
    "import cv2\n",
    "\n",
    "path = r\"C:\\Users\\Administrator\\PY_PROJECTS\\Computer Vision\\Resources\\2am_in_da_city.jpg\"\n",
    "img = cv2.imread(path,0)\n",
    "\n",
    "cv2.imshow(\"2am\", img)\n",
    "cv2.waitKey(0)"
   ]
  },
  {
   "cell_type": "markdown",
   "id": "3400d1f4-320d-4953-9b2d-b68056e77ffd",
   "metadata": {},
   "source": [
    "## **Blurring Images and Edge Detection** ##"
   ]
  },
  {
   "cell_type": "code",
   "execution_count": 1,
   "id": "c2a4c793-32fd-4ca2-b488-fdd47a9e5b94",
   "metadata": {},
   "outputs": [
    {
     "data": {
      "text/plain": [
       "-1"
      ]
     },
     "execution_count": 1,
     "metadata": {},
     "output_type": "execute_result"
    }
   ],
   "source": [
    "import cv2 as cv\n",
    "\n",
    "path = r\"C:\\Users\\Administrator\\PY_PROJECTS\\Computer_Vision\\Resources\\Saka_14.jpg\"\n",
    "img = cv.imread(path)\n",
    "\n",
    "if img is None:\n",
    "    print(\"Error: Could not load image. Check the file path or format.\")\n",
    "else:\n",
    "    # Get the dimensions of the image\n",
    "    if len(img.shape) == 3:  # Color image (Height, Width, Channels)\n",
    "        height, width, channels = img.shape\n",
    "    elif len(img.shape) == 2:  # Grayscale image (Height, Width)\n",
    "        height, width = img.shape\n",
    "        channels = 1  # Grayscale has 1 channel\n",
    "\n",
    "    # Resize the image to fit within a maximum width and height\n",
    "    max_width = 800  # Adjust as needed\n",
    "    max_height = 600  # Adjust as needed\n",
    "\n",
    "    # Calculate the scaling factor\n",
    "    scale = min(max_width / width, max_height / height)\n",
    "\n",
    "    # Resize the image while maintaining the aspect ratio\n",
    "    new_width = int(width * scale)\n",
    "    new_height = int(height * scale)\n",
    "    resized_img = cv.resize(img, (new_width, new_height))\n",
    "\n",
    "img_gray = cv.cvtColor(resized_img, cv.COLOR_BGR2GRAY)\n",
    "img_blur = cv.GaussianBlur(img_gray, (9,9), 10)\n",
    "img_canny = cv.Canny(img_blur, 100, 100)\n",
    "\n",
    "cv.imshow(\"Saka_grayed\", img_gray)\n",
    "cv.imshow(\"Saka_blurred\", img_blur)\n",
    "cv.imshow(\"Saka_canny\", img_canny)\n",
    "cv.waitKey(0)"
   ]
  },
  {
   "cell_type": "markdown",
   "id": "5cd6e680-da37-41d0-a05f-62eef216cd4a",
   "metadata": {},
   "source": [
    "## **Morphological Operations: Erosion and Dilation** ##"
   ]
  },
  {
   "cell_type": "code",
   "execution_count": 3,
   "id": "c64a66e2-6d6a-4e56-8d04-4ccefaaada02",
   "metadata": {},
   "outputs": [],
   "source": [
    "import numpy as np\n",
    "\n",
    "kernel = np.ones([5,5], np.uint8)\n",
    "img_dil = cv.dilate(img_canny, kernel, iterations=1)\n",
    "img_er = cv.erode(img_dil, kernel, iterations=1)\n",
    "\n",
    "cv.imshow(\"Saka_dilated\", img_dil)\n",
    "cv.imshow(\"Saka_eroded\", img_er)"
   ]
  },
  {
   "cell_type": "code",
   "execution_count": null,
   "id": "13852b79-9bf6-4e84-8c74-5a6cd58fa8f3",
   "metadata": {},
   "outputs": [],
   "source": []
  }
 ],
 "metadata": {
  "kernelspec": {
   "display_name": "Python 3 (ipykernel)",
   "language": "python",
   "name": "python3"
  },
  "language_info": {
   "codemirror_mode": {
    "name": "ipython",
    "version": 3
   },
   "file_extension": ".py",
   "mimetype": "text/x-python",
   "name": "python",
   "nbconvert_exporter": "python",
   "pygments_lexer": "ipython3",
   "version": "3.11.7"
  }
 },
 "nbformat": 4,
 "nbformat_minor": 5
}
