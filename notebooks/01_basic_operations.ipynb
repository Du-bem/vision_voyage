{
 "cells": [
  {
   "cell_type": "code",
   "execution_count": 1,
   "id": "707d320c-ed37-45a1-ad61-bdb5bf48f649",
   "metadata": {},
   "outputs": [
    {
     "name": "stdout",
     "output_type": "stream",
     "text": [
      "4.10.0\n"
     ]
    }
   ],
   "source": [
    "import cv2\n",
    "print(cv2.__version__)"
   ]
  },
  {
   "cell_type": "markdown",
   "id": "e8a239b0-650a-4969-b1f4-eaf7c2d5e386",
   "metadata": {
    "jp-MarkdownHeadingCollapsed": true
   },
   "source": [
    "## **Loading Images Using OpenCV**"
   ]
  },
  {
   "cell_type": "code",
   "execution_count": 5,
   "id": "c57c8cf5-fb1e-4d36-9375-ada81cb3af2a",
   "metadata": {},
   "outputs": [],
   "source": [
    "img = cv2.imread(r\"C:\\Users\\Administrator\\PY_PROJECTS\\Computer_Vision\\Resources\\Saka_03.jpg\")\n",
    "\n",
    "if img is None:\n",
    "    print(\"Error loading image.\")\n",
    "else:\n",
    "    cv2.imshow(\"Saka1\", img)\n",
    "    cv2.waitKey(0)"
   ]
  },
  {
   "cell_type": "markdown",
   "id": "e836ef43-bd07-4548-8229-71cff3e2fe7e",
   "metadata": {
    "jp-MarkdownHeadingCollapsed": true
   },
   "source": [
    "## **Loading Videos Using OpenCV**"
   ]
  },
  {
   "cell_type": "code",
   "execution_count": 5,
   "id": "dc87767a-49c2-4e34-b038-b246aa7a80f4",
   "metadata": {},
   "outputs": [
    {
     "name": "stdout",
     "output_type": "stream",
     "text": [
      "37.5\n",
      "End of video or error reading frame.\n"
     ]
    }
   ],
   "source": [
    "framewidth = 540\n",
    "frameheight = 360\n",
    "\n",
    "cap = cv2.VideoCapture(r\"C:\\Users\\Administrator\\PY_PROJECTS\\Computer_Vision\\Resources\\Saka_assist_clip.mp4\")\n",
    "\n",
    "if not cap.isOpened():\n",
    "    print(\"Error: Could not open video file.\")\n",
    "    exit()\n",
    "\n",
    "fps = cap.get(cv2.CAP_PROP_FPS) * 1.25\n",
    "print(fps)\n",
    "if fps == 0:\n",
    "    fps = 30  # Fallback to 30 FPS if frame rate is unavailable\n",
    "delay = int(1000 / fps)\n",
    "\n",
    "while True:\n",
    "    success, vid = cap.read()\n",
    "    if not success:  # Stop when no more frames\n",
    "        print(\"End of video or error reading frame.\")\n",
    "        break\n",
    "\n",
    "    vid = cv2.resize(vid, (framewidth, frameheight))\n",
    "    cv2.imshow(\"Video\", vid)\n",
    "\n",
    "    if cv2.waitKey(delay) & 0xFF == ord('q'):\n",
    "        break\n",
    "\n",
    "cap.release()\n",
    "cv2.destroyAllWindows()"
   ]
  },
  {
   "cell_type": "markdown",
   "id": "2e643820-2f0e-48ce-aa51-e8b5e27c2c87",
   "metadata": {
    "jp-MarkdownHeadingCollapsed": true
   },
   "source": [
    "## **Resizing and Cropping Images Using OpenCV**"
   ]
  },
  {
   "cell_type": "code",
   "execution_count": 25,
   "id": "cf704bf9-7ba8-41c2-9769-dde5d2dd8e4a",
   "metadata": {},
   "outputs": [
    {
     "name": "stdout",
     "output_type": "stream",
     "text": [
      "(266, 474, 3)\n",
      "(364, 650, 3)\n"
     ]
    },
    {
     "data": {
      "text/plain": [
       "-1"
      ]
     },
     "execution_count": 25,
     "metadata": {},
     "output_type": "execute_result"
    }
   ],
   "source": [
    "path = r\"C:\\Users\\Administrator\\PY_PROJECTS\\Computer_Vision\\Resources\\Saka_11.jpg\"\n",
    "img = cv2.imread(path)\n",
    "print(img.shape)\n",
    "\n",
    "if img is None:\n",
    "    print(\"Error: Could not load image. Check the file path or format.\")\n",
    "else:\n",
    "    max_width = 650\n",
    "    max_height = 600\n",
    "\n",
    "    height, width, _ = img.shape\n",
    "    scale = min(max_width/width, max_height/height)\n",
    "\n",
    "    new_width = int(width * scale)\n",
    "    new_height = int(height * scale)\n",
    "    resized_img = cv2.resize(img, (new_width, new_height))\n",
    "    print(resized_img.shape)\n",
    "\n",
    "\n",
    "img_cropped = img[10:250, 15:425]\n",
    "img_cropped_resize = cv2.resize(img_cropped, (650, 364))\n",
    "\n",
    "cv2.imshow(\"Saka_11\", img)\n",
    "cv2.imshow(\"Saka_resized\", resized_img)\n",
    "cv2.imshow('Saka_2k21', img_cropped)\n",
    "cv2.imshow('Saka_2k21_resize', img_cropped_resize)\n",
    "cv2.waitKey(0)"
   ]
  },
  {
   "cell_type": "markdown",
   "id": "023514b2-05ac-4ce2-8e78-94f3b377b864",
   "metadata": {
    "jp-MarkdownHeadingCollapsed": true
   },
   "source": [
    "## **Colour Spaces - Loading Images as Grayscale**"
   ]
  },
  {
   "cell_type": "code",
   "execution_count": 9,
   "id": "f7a2f093-e182-410c-8c8b-db21e2ce90eb",
   "metadata": {},
   "outputs": [
    {
     "data": {
      "text/plain": [
       "-1"
      ]
     },
     "execution_count": 9,
     "metadata": {},
     "output_type": "execute_result"
    }
   ],
   "source": [
    "import cv2\n",
    "\n",
    "path = r\"C:\\Users\\Administrator\\PY_PROJECTS\\Computer_Vision\\Resources\\Saka_07.jpg\"\n",
    "img = cv2.imread(path,0)\n",
    "\n",
    "cv2.imshow(\"Saka_Euros24\", img)\n",
    "cv2.waitKey(0)"
   ]
  },
  {
   "cell_type": "markdown",
   "id": "bd5d9e82-8570-4e51-858e-8a54eb72956d",
   "metadata": {
    "jp-MarkdownHeadingCollapsed": true
   },
   "source": [
    "## **Resizing BGR, Grayscale Images**"
   ]
  },
  {
   "cell_type": "code",
   "execution_count": 13,
   "id": "50b314d1-a089-4d31-ab92-8164da4bc32f",
   "metadata": {},
   "outputs": [],
   "source": [
    "path = r\"C:\\Users\\Administrator\\PY_PROJECTS\\Computer_Vision\\Resources\\Saka_07.jpg\"\n",
    "img = cv2.imread(path, 0)\n",
    "\n",
    "if img is None:\n",
    "    print(\"Error: Could not load image. Check the file path or format.\")\n",
    "else:\n",
    "    # Get the dimensions of the image\n",
    "    if len(img.shape) == 3:  # Color image (Height, Width, Channels)\n",
    "        height, width, channels = img.shape\n",
    "    elif len(img.shape) == 2:  # Grayscale image (Height, Width)\n",
    "        height, width = img.shape\n",
    "        channels = 1  # Grayscale has 1 channel\n",
    "\n",
    "    # Resize the image to fit within a maximum width and height\n",
    "    max_width = 800  # Adjust as needed\n",
    "    max_height = 600  # Adjust as needed\n",
    "\n",
    "    # Calculate the scaling factor\n",
    "    scale = min(max_width / width, max_height / height)\n",
    "\n",
    "    # Resize the image while maintaining the aspect ratio\n",
    "    new_width = int(width * scale)\n",
    "    new_height = int(height * scale)\n",
    "    resized_img = cv2.resize(img, (new_width, new_height))\n",
    "\n",
    "    # Display the resized image\n",
    "    cv2.imshow(\"Resized Image\", resized_img)\n",
    "    cv2.waitKey(0)\n",
    "    cv2.destroyAllWindows()\n"
   ]
  },
  {
   "cell_type": "markdown",
   "id": "d76375b5-b76c-4f94-9485-f7f42e0141e4",
   "metadata": {},
   "source": [
    "## Blank Images, Drawing Shapes and Text"
   ]
  },
  {
   "cell_type": "code",
   "execution_count": 20,
   "id": "a0e3876b-1d38-4e2b-b734-8d56f8d899cc",
   "metadata": {},
   "outputs": [
    {
     "name": "stdout",
     "output_type": "stream",
     "text": [
      "(500, 500, 3)\n"
     ]
    },
    {
     "data": {
      "text/plain": [
       "-1"
      ]
     },
     "execution_count": 20,
     "metadata": {},
     "output_type": "execute_result"
    }
   ],
   "source": [
    "import numpy as np\n",
    "\n",
    "img = np.zeros((500,500,3), np.uint8)    # Black image\n",
    "print(img.shape)\n",
    "# img[69:96] = 255, 0, 0\n",
    "\n",
    "cv2.line(img, (0,0), (img.shape[1], img.shape[0]), (0,255,0), 2)\n",
    "cv2.rectangle(img, (350,100), (450,200), (0,0,255), cv2.FILLED)\n",
    "cv2.circle(img, (150,400), 50, (255,0,0), 4)\n",
    "cv2.putText(img, 'Shapes: ', (75,50), cv2.FONT_HERSHEY_DUPLEX,1,(0,169,0),1)\n",
    "\n",
    "cv2.imshow('blank', img)\n",
    "\n",
    "cv2.waitKey(0)"
   ]
  },
  {
   "cell_type": "code",
   "execution_count": null,
   "id": "68a505d8-9331-42c4-a5e2-ebf1afabfccf",
   "metadata": {},
   "outputs": [],
   "source": []
  }
 ],
 "metadata": {
  "kernelspec": {
   "display_name": "Python 3 (ipykernel)",
   "language": "python",
   "name": "python3"
  },
  "language_info": {
   "codemirror_mode": {
    "name": "ipython",
    "version": 3
   },
   "file_extension": ".py",
   "mimetype": "text/x-python",
   "name": "python",
   "nbconvert_exporter": "python",
   "pygments_lexer": "ipython3",
   "version": "3.11.7"
  }
 },
 "nbformat": 4,
 "nbformat_minor": 5
}
